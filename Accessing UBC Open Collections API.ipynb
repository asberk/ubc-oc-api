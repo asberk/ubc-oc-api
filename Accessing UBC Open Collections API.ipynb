{
 "cells": [
  {
   "cell_type": "markdown",
   "metadata": {
    "toc": "true"
   },
   "source": [
    "# Table of Contents\n",
    " <p><div class=\"lev1 toc-item\"><a href=\"#Import-packages\" data-toc-modified-id=\"Import-packages-1\"><span class=\"toc-item-num\">1&nbsp;&nbsp;</span>Import packages</a></div><div class=\"lev1 toc-item\"><a href=\"#Set-up-environment-variables\" data-toc-modified-id=\"Set-up-environment-variables-2\"><span class=\"toc-item-num\">2&nbsp;&nbsp;</span>Set up environment variables</a></div><div class=\"lev2 toc-item\"><a href=\"#Example-item\" data-toc-modified-id=\"Example-item-21\"><span class=\"toc-item-num\">2.1&nbsp;&nbsp;</span>Example item</a></div><div class=\"lev2 toc-item\"><a href=\"#Saving-results\" data-toc-modified-id=\"Saving-results-22\"><span class=\"toc-item-num\">2.2&nbsp;&nbsp;</span>Saving results</a></div>"
   ]
  },
  {
   "cell_type": "markdown",
   "metadata": {},
   "source": [
    "# Import packages"
   ]
  },
  {
   "cell_type": "code",
   "execution_count": 1,
   "metadata": {
    "collapsed": false
   },
   "outputs": [
    {
     "name": "stdout",
     "output_type": "stream",
     "text": [
      "Populating the interactive namespace from numpy and matplotlib\n"
     ]
    }
   ],
   "source": [
    "%pylab inline"
   ]
  },
  {
   "cell_type": "code",
   "execution_count": 2,
   "metadata": {
    "collapsed": true
   },
   "outputs": [],
   "source": [
    "import requests, math, json"
   ]
  },
  {
   "cell_type": "markdown",
   "metadata": {},
   "source": [
    "# Set up environment variables"
   ]
  },
  {
   "cell_type": "code",
   "execution_count": 3,
   "metadata": {
    "collapsed": true
   },
   "outputs": [],
   "source": [
    "with open('ocBaseURL.txt', 'r') as fp:\n",
    "    baseURL = fp.read()[:-1]"
   ]
  },
  {
   "cell_type": "code",
   "execution_count": 4,
   "metadata": {
    "collapsed": true
   },
   "outputs": [],
   "source": [
    "ocApiUrl = baseURL.split('\\n')[0]"
   ]
  },
  {
   "cell_type": "code",
   "execution_count": 5,
   "metadata": {
    "collapsed": true
   },
   "outputs": [],
   "source": [
    "with open('api-key.private', 'r') as fp:\n",
    "    apiKey = fp.read()"
   ]
  },
  {
   "cell_type": "code",
   "execution_count": 6,
   "metadata": {
    "collapsed": true
   },
   "outputs": [],
   "source": [
    "collection = '24'\n",
    "perPage = 100\n",
    "offset = 0"
   ]
  },
  {
   "cell_type": "code",
   "execution_count": 7,
   "metadata": {
    "collapsed": false
   },
   "outputs": [
    {
     "name": "stdout",
     "output_type": "stream",
     "text": [
      "This collection contains 11653 items.\n"
     ]
    }
   ],
   "source": [
    "# Query the API for the collection item count\n",
    "collectionUrl = ocApiUrl + '/collections/' + collection + '?api_key=' + apiKey\n",
    "apiResponse = requests.get(collectionUrl).json()\n",
    "itemCount = int(apiResponse['data']['items'])\n",
    "print('This collection contains {} items.'.format(itemCount))"
   ]
  },
  {
   "cell_type": "code",
   "execution_count": 8,
   "metadata": {
    "collapsed": false
   },
   "outputs": [
    {
     "name": "stdout",
     "output_type": "stream",
     "text": [
      "That means there are a total of 117 pages to scan\n"
     ]
    }
   ],
   "source": [
    "# Figure out how many pages there are\n",
    "pages = int(math.ceil(itemCount / float(perPage)))\n",
    "print('That means there are a total of {} pages to scan'.format(pages))"
   ]
  },
  {
   "cell_type": "code",
   "execution_count": 9,
   "metadata": {
    "collapsed": true
   },
   "outputs": [],
   "source": [
    "# Loop through collection item pages to get all items\n",
    "itemIDs = []\n",
    "for x in range(pages):\n",
    "    collectionItemsUrl = ocApiUrl + '/collections/' + collection\n",
    "    collectionItemsUrl += '/items?limit=' + str(perPage) + '&offset=' + str(offset) + '&api_key=' + apiKey\n",
    "    offset += perPage\n",
    "    # get list of perPage items \n",
    "    apiResponse = requests.get(collectionItemsUrl).json()\n",
    "    collectionItems = apiResponse['data']\n",
    "    for collectionItem in collectionItems:\n",
    "        itemIDs.append(collectionItem['_id'])"
   ]
  },
  {
   "cell_type": "code",
   "execution_count": 13,
   "metadata": {
    "collapsed": false
   },
   "outputs": [
    {
     "data": {
      "text/plain": [
       "{'_id': '1.0165874',\n",
       " '_index': 'dsp.24-2017-05-28',\n",
       " 'creator': 'McNulty, Brian',\n",
       " 'dateAvailable': '2014-02-11T00:00:00Z',\n",
       " 'title': 'Geology, alteration, lithogeochemistry and hydrothermal fluid characterization of the Neoproterozoic Niblack polymetallic volcanic-hosted massive sulfide camp, southeast Alaska, USA',\n",
       " 'type': 'Text',\n",
       " 'ubc.date.sort': '2014-12-31 AD',\n",
       " 'ubc.internal.item.last.ingested': '2017-05-28 6:44:36',\n",
       " 'ubc.internal.repo.handle': '2429/46005'}"
      ]
     },
     "execution_count": 13,
     "metadata": {},
     "output_type": "execute_result"
    }
   ],
   "source": [
    "# print a sample of what we're getting...\n",
    "collectionItems[0]"
   ]
  },
  {
   "cell_type": "code",
   "execution_count": 19,
   "metadata": {
    "collapsed": false
   },
   "outputs": [],
   "source": [
    "# Store all the items so we can print them out later\n",
    "items = []\n",
    "for itemID in itemIDs:\n",
    "    itemUrl = ocApiUrl + '/collections/' + collection + '/items/' + itemID\n",
    "    apiResponse = requests.get(itemUrl).json()\n",
    "    item = apiResponse['data']\n",
    "    items.append(item)"
   ]
  },
  {
   "cell_type": "markdown",
   "metadata": {},
   "source": [
    "## Example item"
   ]
  },
  {
   "cell_type": "code",
   "execution_count": 76,
   "metadata": {
    "collapsed": false
   },
   "outputs": [
    {
     "name": "stdout",
     "output_type": "stream",
     "text": [
      "['DegreeGrantor', 'Language', 'Type', 'DateAvailable', 'IsShownAt', 'Provider', 'AggregatedSourceRepository', 'Creator', 'Campus', 'Program', 'Description', 'FullText', 'URI', 'Degree', 'Affiliation', 'DateIssued', 'SortDate', 'Title', 'RightsURI', 'DigitalResourceOriginalRecord', 'Genre', 'Rights', 'GraduationDate', 'ScholarlyLevel', 'Publisher']\n"
     ]
    }
   ],
   "source": [
    "egItem = items[0]\n",
    "print([key for key in egItem.keys()])"
   ]
  },
  {
   "cell_type": "code",
   "execution_count": 67,
   "metadata": {
    "collapsed": false
   },
   "outputs": [
    {
     "name": "stdout",
     "output_type": "stream",
     "text": [
      "Sediment transport and bed material adjustments in the vicinity of Wilsey Dam : salmon spawning habitat implications\n"
     ]
    }
   ],
   "source": [
    "egTitle = egItem['Title'][0]['value']\n",
    "print(egTitle)"
   ]
  },
  {
   "cell_type": "code",
   "execution_count": 70,
   "metadata": {
    "collapsed": false
   },
   "outputs": [
    {
     "name": "stdout",
     "output_type": "stream",
     "text": [
      "Environmental Sciences\n",
      "2017-12-31 AD\n"
     ]
    }
   ],
   "source": [
    "egProgram = egItem['Program'][0]['value']\n",
    "print(egProgram)\n",
    "\n",
    "egDate = egItem['SortDate'][0]['value']\n",
    "print(egDate)"
   ]
  },
  {
   "cell_type": "code",
   "execution_count": 65,
   "metadata": {
    "collapsed": false
   },
   "outputs": [
    {
     "name": "stdout",
     "output_type": "stream",
     "text": [
      "Substrate requirements are an important component of the multifaceted spawning needs of salmon, and this research effort was directed at developing a greater understanding of sediment transport dynamics and bed material response in the Middle Shuswap River in consequence of the emplacement and subsequent management of Wilsey Dam. Downstream of Wilsey Dam the river provides spawning habitat for coho (Oncorhynchus kisutch), chinook (O. tshawytscha), pink (O. gorbuscha) and sockeye (O. nerka) salmon. This thesis suggests that sand dredged from deposits filling the upstream reservoir basin of the dam could be redeposited downstream when coupled with specific flow releases (≥100 cubic metres per second). This is seen as a viable option for sediment management on the Middle Shuswap River aimed at restoring sediment transport processes and preserving spawning habitat. Maintaining sediment transport processes after dam emplacement is an important consideration for ecological processes in rivers, consistent with the notion of holistic dam management (Ligon et al. 1995, Tharme 2003)\r\n",
      "\r\n",
      "An experimental underwater Automated Grain Sizing method was developed for determining the median grain size (D50) of glide facies throughout the 28.4 km study area. On this basis, estimates of viable salmon spawning habitat were updated from 2002 and mapped below (190,906 m2) and above (387,265 m2) Wilsey Dam. Grain size distributions showed a fining trend in the downstream direction for the Middle Shuswap River, with significant coarsening of bed substrate in the 0.2 km section immediately below the canyon downstream of Wilsey Dam. A one-dimensional (1D) sediment transport model, based on the Wilcock and Crowe (2003) transport equation, showed that sand reintroduced during spring freshet to a 1200 m reach below the dam flushed quickly through in the model. Gravel was also mobilized upon sand reintroduction. The model is an oversimplification of site conditions and would need to be field tested during sand reintroduction trials to establish model integrity. \r\n",
      "\r\n",
      "Research undertaken in this thesis contributes to the growing amount of literature on the biophysical impacts of hydroelectric dams and presents ways dam operators can approach and mitigate disruptions to sediment transport process and their resulting ecological impacts.\n"
     ]
    }
   ],
   "source": [
    "egAbstract = egItem['Description'][0]['value']\n",
    "print(egAbstract)"
   ]
  },
  {
   "cell_type": "code",
   "execution_count": 72,
   "metadata": {
    "collapsed": false
   },
   "outputs": [
    {
     "name": "stdout",
     "output_type": "stream",
     "text": [
      "Acknowledgements   I am foremost and forever thankful to my supervisor Dr. Bernard Bauer, whose kindness, generosity and feedback not only made my research progress possible, but who also has provided me with life lessons that will be undoubtedly woven into the fabric of my future endeavors.   I am very thankful for the involvement of Dr. Mark Lorang who spent over 20 hours on the road to participate in data collection, provided invaluable feedback on my writing and who always saw my potential. I thank Dr. John Richardson for his involvement, encouraging me and teaching me much about writing.   Academic mentors who generously provided specific insights key to particular steps in this research include Dr. Marwan Hassan (UBC), Dr. Sylvia Esterby (UBC), Dr. Theodore Fuller (SFU), Dr. Carl Schwarz (SFU), and Dr. David Graham (Loughborough University).  The Fish and Wildlife Compensation Program Coastal helped fund this project on behalf of its program partners: BC Hydro, the Province of B.C., and Fisheries and Oceans Canada, who work together to conserve and enhance fish and wildlife impacted by the construction of BC Hydro dams.   I am very thankful to the Natural Sciences and Engineering Research Council of Canada (NSERC), BC Hydro and the University of British Columbia who provided additional funding that allowed me to work intensively for 5 years to complete this important research.   From BC Hydro, I am thankful to the following individuals who saw promise in this study and provided me with unwavering support: Alan Laidlaw, Alan Pattinson, Al McLean, Dr. Guy Martel, James Bruce, Adam Croxall, Dr. Georg Jost, Fazil Yusuf, Les Giles and Nicole Lucas.  I am very grateful for field and laboratory assistance provided by Lucie Parker, Mindy Skinner, Matt Kieller, Cory Biesel, Norm Shearing, John Devitt, Beth Manson, Nathan Rebbetoy, and the late great Rowland Bell. Without your assistance, the data would not have been collected.   Maps of salmon spawning habitat would not have been possible to create without data generously provided in kind by Dr. Brian Guy of Associated Environmental Consultants Ltd.   I also wish to acknowledge the invaluable help provided by the Hesketh family (Lee and Crystal), Szczepan and Lucyna Wolski and the Shuswap River Hatchery staff, Gay Jewitt and the members of the Wilsey Dam Fish Passage Committee, James Pepper, Richard Bailey, Patricia House, Les Jantz, Phil Matson, Rick Fairburn, Scott Allen, Fabien Hugue, Chief Byron Lewis, Randy Rauck and the wonderfully kind citizens of Lumby and Cherryville.  Finally, I am forever grateful for the support from my loving family, most especially my wife Marnie.   XXV Dedication  To Oliver and India, the future.     \n"
     ]
    }
   ],
   "source": [
    "thesisFT = egItem['FullText'][0]['value']\n",
    "ackTOC = thesisFT.lower().index('acknowledgements')\n",
    "acknowledgementsIdx = thesisFT[(ackTOC+1):].lower().index('acknowledgements')\n",
    "ackEnd = thesisFT[(ackTOC+1+acknowledgementsIdx):].lower().index('1')\n",
    "egAcknow = thesisFT[(ackTOC + acknowledgementsIdx+1):(ackTOC + acknowledgementsIdx+1+ackEnd)]\n",
    "print(egAcknow)"
   ]
  },
  {
   "cell_type": "markdown",
   "metadata": {},
   "source": [
    "## Saving results"
   ]
  },
  {
   "cell_type": "code",
   "execution_count": 77,
   "metadata": {
    "collapsed": true
   },
   "outputs": [],
   "source": [
    "with open('./ubctheses.json', 'w+', encoding='utf-8') as fp:\n",
    "    json.dump(items, fp, indent=4)"
   ]
  }
 ],
 "metadata": {
  "kernelspec": {
   "display_name": "Python 3",
   "language": "python",
   "name": "python3"
  },
  "language_info": {
   "codemirror_mode": {
    "name": "ipython",
    "version": 3
   },
   "file_extension": ".py",
   "mimetype": "text/x-python",
   "name": "python",
   "nbconvert_exporter": "python",
   "pygments_lexer": "ipython3",
   "version": "3.5.2"
  },
  "toc": {
   "nav_menu": {
    "height": "84px",
    "width": "252px"
   },
   "navigate_menu": true,
   "number_sections": true,
   "sideBar": true,
   "threshold": 4,
   "toc_cell": true,
   "toc_section_display": "block",
   "toc_window_display": false
  }
 },
 "nbformat": 4,
 "nbformat_minor": 1
}
